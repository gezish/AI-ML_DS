{
 "cells": [
  {
   "cell_type": "markdown",
   "metadata": {},
   "source": [
    "### ML Model Selection Strategies with Python: Predicting Bank Lead Conversion"
   ]
  },
  {
   "cell_type": "code",
   "execution_count": null,
   "metadata": {},
   "outputs": [],
   "source": [
    "import pandas as pd\n",
    "from sklearn.model_selection import train_test_split\n"
   ]
  },
  {
   "cell_type": "code",
   "execution_count": 6,
   "metadata": {},
   "outputs": [
    {
     "data": {
      "text/plain": [
       "<bound method NDFrame.head of       Gender  Age Employment Type  Credit Score Source of Lead  Loan Period  \\\n",
       "0       Male   64   Self Employed           637           Call            5   \n",
       "1     Female   24        Salaried           469         Online           10   \n",
       "2     Female   49        Salaried           678        Walk-in           10   \n",
       "3     Female   53        Salaried           651        Walk-in           30   \n",
       "4       Male   54        Salaried           709        Walk-in           10   \n",
       "...      ...  ...             ...           ...            ...          ...   \n",
       "4995  Female   67        Salaried           848        Walk-in           10   \n",
       "4996    Male   65        Salaried           619        Walk-in            1   \n",
       "4997    Male   51   Self Employed           540        Walk-in            1   \n",
       "4998  Female   24        Salaried           649         Online           10   \n",
       "4999  Female   53        Salaried           669        Walk-in            5   \n",
       "\n",
       "      Value of Collateral  Monthly Income Bank Account Type  Existing EMI  \\\n",
       "0                    9398          136924           Savings         19786   \n",
       "1                   61140          104646           Savings         19124   \n",
       "2                  135590          151255           Savings         13071   \n",
       "3                  438668           34023           Savings          9113   \n",
       "4                  260927           23957           Current         13760   \n",
       "...                   ...             ...               ...           ...   \n",
       "4995               148261           91031           Savings         19158   \n",
       "4996               222489          188441           Savings          4404   \n",
       "4997               305298          107664           Savings         18578   \n",
       "4998               367683          143600           Savings          8769   \n",
       "4999                82423           82999           Savings          4271   \n",
       "\n",
       "      Loan Amount  Estimated EMI  New Debt to Income ratio  Loan Approved  \n",
       "0           85449   17390.031160                  0.271509              0  \n",
       "1          343120   35422.447180                  0.521247              0  \n",
       "2          118681   12252.190061                  0.167421              0  \n",
       "3          352471   12841.190780                  0.645275              0  \n",
       "4          150190   15505.063365                  1.221566              0  \n",
       "...           ...            ...                       ...            ...  \n",
       "4995        36935    3813.033593                  0.252343              0  \n",
       "4996        46102   46370.928333                  0.269447              0  \n",
       "4997       457509  460177.802500                  4.446758              0  \n",
       "4998        29729    3069.112649                  0.082438              1  \n",
       "4999        77797   15832.745312                  0.242217              0  \n",
       "\n",
       "[5000 rows x 14 columns]>"
      ]
     },
     "execution_count": 6,
     "metadata": {},
     "output_type": "execute_result"
    }
   ],
   "source": [
    "data = pd.read_csv('../data/loan_lead_data.csv')\n",
    "data.head"
   ]
  },
  {
   "cell_type": "code",
   "execution_count": 7,
   "metadata": {},
   "outputs": [
    {
     "data": {
      "text/plain": [
       "Index(['Gender', 'Age', 'Employment Type', 'Credit Score', 'Source of Lead',\n",
       "       'Loan Period', 'Value of Collateral', 'Monthly Income',\n",
       "       'Bank Account Type', 'Existing EMI', 'Loan Amount', 'Estimated EMI',\n",
       "       'New Debt to Income ratio', 'Loan Approved'],\n",
       "      dtype='object')"
      ]
     },
     "execution_count": 7,
     "metadata": {},
     "output_type": "execute_result"
    }
   ],
   "source": [
    "data.columns"
   ]
  },
  {
   "cell_type": "code",
   "execution_count": null,
   "metadata": {},
   "outputs": [],
   "source": []
  }
 ],
 "metadata": {
  "kernelspec": {
   "display_name": "Python 3 (ipykernel)",
   "language": "python",
   "name": "python3"
  },
  "language_info": {
   "codemirror_mode": {
    "name": "ipython",
    "version": 3
   },
   "file_extension": ".py",
   "mimetype": "text/x-python",
   "name": "python",
   "nbconvert_exporter": "python",
   "pygments_lexer": "ipython3",
   "version": "3.10.9"
  }
 },
 "nbformat": 4,
 "nbformat_minor": 2
}
