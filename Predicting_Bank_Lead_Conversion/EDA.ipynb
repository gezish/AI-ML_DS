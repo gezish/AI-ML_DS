{
 "cells": [
  {
   "cell_type": "markdown",
   "metadata": {},
   "source": [
    "### ML Model Selection Strategies with Python: Predicting Bank Lead Conversion"
   ]
  },
  {
   "cell_type": "code",
   "execution_count": 17,
   "metadata": {},
   "outputs": [],
   "source": [
    "import pandas as pd\n",
    "from sklearn.model_selection import train_test_split\n",
    "import matplotlib.pyplot as plt\n",
    "from imblearn.over_sampling import SMOTE"
   ]
  },
  {
   "cell_type": "markdown",
   "metadata": {},
   "source": [
    "#### 1. Load the dataset"
   ]
  },
  {
   "cell_type": "code",
   "execution_count": 8,
   "metadata": {},
   "outputs": [
    {
     "data": {
      "text/html": [
       "<div>\n",
       "<style scoped>\n",
       "    .dataframe tbody tr th:only-of-type {\n",
       "        vertical-align: middle;\n",
       "    }\n",
       "\n",
       "    .dataframe tbody tr th {\n",
       "        vertical-align: top;\n",
       "    }\n",
       "\n",
       "    .dataframe thead th {\n",
       "        text-align: right;\n",
       "    }\n",
       "</style>\n",
       "<table border=\"1\" class=\"dataframe\">\n",
       "  <thead>\n",
       "    <tr style=\"text-align: right;\">\n",
       "      <th></th>\n",
       "      <th>Gender</th>\n",
       "      <th>Age</th>\n",
       "      <th>Employment Type</th>\n",
       "      <th>Credit Score</th>\n",
       "      <th>Source of Lead</th>\n",
       "      <th>Loan Period</th>\n",
       "      <th>Value of Collateral</th>\n",
       "      <th>Monthly Income</th>\n",
       "      <th>Bank Account Type</th>\n",
       "      <th>Existing EMI</th>\n",
       "      <th>Loan Amount</th>\n",
       "      <th>Estimated EMI</th>\n",
       "      <th>New Debt to Income ratio</th>\n",
       "      <th>Loan Approved</th>\n",
       "    </tr>\n",
       "  </thead>\n",
       "  <tbody>\n",
       "    <tr>\n",
       "      <th>0</th>\n",
       "      <td>Male</td>\n",
       "      <td>64</td>\n",
       "      <td>Self Employed</td>\n",
       "      <td>637</td>\n",
       "      <td>Call</td>\n",
       "      <td>5</td>\n",
       "      <td>9398</td>\n",
       "      <td>136924</td>\n",
       "      <td>Savings</td>\n",
       "      <td>19786</td>\n",
       "      <td>85449</td>\n",
       "      <td>17390.03116</td>\n",
       "      <td>0.271509</td>\n",
       "      <td>0</td>\n",
       "    </tr>\n",
       "  </tbody>\n",
       "</table>\n",
       "</div>"
      ],
      "text/plain": [
       "  Gender  Age Employment Type  Credit Score Source of Lead  Loan Period  \\\n",
       "0   Male   64   Self Employed           637           Call            5   \n",
       "\n",
       "   Value of Collateral  Monthly Income Bank Account Type  Existing EMI  \\\n",
       "0                 9398          136924           Savings         19786   \n",
       "\n",
       "   Loan Amount  Estimated EMI  New Debt to Income ratio  Loan Approved  \n",
       "0        85449    17390.03116                  0.271509              0  "
      ]
     },
     "execution_count": 8,
     "metadata": {},
     "output_type": "execute_result"
    }
   ],
   "source": [
    "data = pd.read_csv('../data/loan_lead_data.csv')\n",
    "data.head(1)"
   ]
  },
  {
   "cell_type": "code",
   "execution_count": 7,
   "metadata": {},
   "outputs": [
    {
     "data": {
      "text/plain": [
       "Index(['Gender', 'Age', 'Employment Type', 'Credit Score', 'Source of Lead',\n",
       "       'Loan Period', 'Value of Collateral', 'Monthly Income',\n",
       "       'Bank Account Type', 'Existing EMI', 'Loan Amount', 'Estimated EMI',\n",
       "       'New Debt to Income ratio', 'Loan Approved'],\n",
       "      dtype='object')"
      ]
     },
     "execution_count": 7,
     "metadata": {},
     "output_type": "execute_result"
    }
   ],
   "source": [
    "data.columns"
   ]
  },
  {
   "cell_type": "code",
   "execution_count": 11,
   "metadata": {},
   "outputs": [
    {
     "data": {
      "text/plain": [
       "70000"
      ]
     },
     "execution_count": 11,
     "metadata": {},
     "output_type": "execute_result"
    }
   ],
   "source": [
    "data.size"
   ]
  },
  {
   "cell_type": "markdown",
   "metadata": {},
   "source": [
    "### 2. Initialize Data and Conduct Train-Test Split\n"
   ]
  },
  {
   "cell_type": "markdown",
   "metadata": {},
   "source": [
    "*2.1 Prepare the data for analysis by performing the following actions:*\n",
    "\n",
    "- Differentiate the dataset into predictor variables and the target variable\n",
    "\n",
    "- Handle the non-numerical attributes by creating dummy variables\n",
    "\n",
    "- Implement a 60:40 train-test split using a random state of 42"
   ]
  },
  {
   "cell_type": "markdown",
   "metadata": {},
   "source": [
    "### - Separate the predictor variables from the target variable"
   ]
  },
  {
   "cell_type": "code",
   "execution_count": 14,
   "metadata": {},
   "outputs": [],
   "source": [
    "X = data.drop('Loan Approved', axis=1) \n",
    "y = data['Loan Approved']\n",
    "#Transform non-numerical attributes using the pd.get_dummies method\n",
    "X = pd.get_dummies(X)\n",
    "# Divide the dataset into training and testing subsets using the train_test_split function\n",
    "X_train, X_test, y_train, y_test = train_test_split(X, y, test_size=0.4, random_state=42)"
   ]
  },
  {
   "cell_type": "markdown",
   "metadata": {},
   "source": [
    "### 3. Address Class Imbalance using Visualization and SMOTE"
   ]
  },
  {
   "cell_type": "markdown",
   "metadata": {},
   "source": [
    "**Here:** \n",
    "- Will find the class counts in the target variable and visualize the potential imbalance using a bar chart. If the visual confirms an imbalance in the target variable of the training set, utilize the Synthetic Minority Over-sampling Technique (SMOTE) to equalize the class distribution. Confirm class balance in the new data using another bar chart visualization.\n",
    "\n",
    "- SMOTE: It is especially helpful in situations where the dataset has many more instances of the majority class compared to the minority class, leading to biased models."
   ]
  },
  {
   "cell_type": "code",
   "execution_count": 16,
   "metadata": {},
   "outputs": [
    {
     "data": {
      "image/png": "[encoded data removed]",
      "text/plain": [
       "<Figure size 640x480 with 1 Axes>"
      ]
     },
     "metadata": {},
     "output_type": "display_data"
    }
   ],
   "source": [
    "\n",
    "y_train.value_counts().plot(kind='bar', title='Class Distribution before SMOTE')\n",
    "plt.show()"
   ]
  },
  {
   "cell_type": "code",
   "execution_count": null,
   "metadata": {},
   "outputs": [],
   "source": [
    "\n",
    "smote = SMOTE(random_state=42)\n",
    "X_train_smote, y_train_smote = smote.fit_resample(X_train, y_train)\n",
    "\n",
    "y_train_smote.value_counts().plot(kind='bar', title='Class Distribution after SMOTE')\n",
    "plt.show()"
   ]
  }
 ],
 "metadata": {
  "kernelspec": {
   "display_name": "Python 3 (ipykernel)",
   "language": "python",
   "name": "python3"
  },
  "language_info": {
   "codemirror_mode": {
    "name": "ipython",
    "version": 3
   },
   "file_extension": ".py",
   "mimetype": "text/x-python",
   "name": "python",
   "nbconvert_exporter": "python",
   "pygments_lexer": "ipython3",
   "version": "3.10.9"
  }
 },
 "nbformat": 4,
 "nbformat_minor": 2
}
